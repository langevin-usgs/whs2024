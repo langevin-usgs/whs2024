{
 "cells": [
  {
   "cell_type": "markdown",
   "metadata": {},
   "source": [
    "# Constructing, running, and post-processing a MODFLOW groundwater model\n",
    "\n",
    "FloPy is a popular Python package for constructing, running, and post-processing MODFLOW models.  In this example, we will demonstrate how FloPy can be used to create a numerical model of groundwater extraction.\n",
    "\n",
    "We will work through the following steps as part of this notebook:\n",
    "* Step 1. Copy and paste the getting started example from the [FloPy Website](https://github.com/modflowpy/flopy/tree/develop?tab=readme-ov-file#getting-started)\n",
    "* Step 2. Modify the example to simulate steady-state groundwater extraction from a single well in the center of the domain\n",
    "* Step 3. Modify the example for transient conditions\n",
    "* Step 4. Modify the example to include multiple groundwater extraction wells"
   ]
  },
  {
   "cell_type": "code",
   "execution_count": 1,
   "metadata": {},
   "outputs": [],
   "source": [
    "# imports\n",
    "import numpy as np\n",
    "import matplotlib.pyplot as plt\n",
    "import flopy"
   ]
  },
  {
   "cell_type": "markdown",
   "metadata": {},
   "source": [
    "## Step 1. Run Flopy Getting Started example\n",
    "\n",
    "Copy the MODFLOW 6 quickstart example from the [FloPy Website](https://github.com/modflowpy/flopy/tree/develop?tab=readme-ov-file#getting-started) and make sure that it runs.  Note that you will need MODFLOW in your path in order for the example to run properly."
   ]
  },
  {
   "cell_type": "code",
   "execution_count": 1,
   "metadata": {},
   "outputs": [],
   "source": [
    "# copy quickstart example and make sure it works"
   ]
  },
  {
   "cell_type": "markdown",
   "metadata": {},
   "source": [
    "## Step 2. Modify example for steady-state groundwater extraction\n",
    "\n",
    "There are several things we will need to do in order to modify the FloPy quickstart example to represent our groundwater extraction problem.  These include:\n",
    "\n",
    "1.  Modify the Discretization (DIS) Package to properly set nlay, nrow, ncol, delr, delc, top, and botm.\n",
    "2.  Modify the Node Property Flow (NPF) Package to properly set the hydraulic conductivity (named `k`).\n",
    "3.  Modify the Constant Head (CHD) Package to assign constant heads around the perimeter of the model with a value of 10.\n",
    "4.  Modify the Well (WEL) Package to assign an extraction well in the middle of the model domain.\n",
    "\n",
    "Let's set the following variables to help us modify this example\n",
    "\n",
    "```\n",
    "# dis\n",
    "length_x = 150000\n",
    "length_y = 150000\n",
    "nrow = 21\n",
    "ncol = 21\n",
    "delr = length_x / ncol\n",
    "delc = length_y / nrow\n",
    "nlay = 1\n",
    "top = 10.\n",
    "botm = 0.\n",
    "\n",
    "# npf\n",
    "hydraulic_conductivity = 100.\n",
    "\n",
    "# chd\n",
    "ibound = np.empty((nlay, nrow, ncol), dtype=int)\n",
    "ibound.fill(-1)\n",
    "ibound[:, 1:nrow-1, 1:ncol-1] = 1\n",
    "layers, rows, columns = np.where(ibound == -1)\n",
    "chd_spd = [[l, r, c, 10.] for l, r, c in zip(layers, rows, columns)]\n",
    "\n",
    "# wel\n",
    "well_row = int((nrow - 1) / 2)\n",
    "well_column = int((ncol - 1) / 2)\n",
    "well_q = -1000.\n",
    "wel_spd = [[0, well_row, well_column, well_q]]\n",
    "```"
   ]
  },
  {
   "cell_type": "code",
   "execution_count": 2,
   "metadata": {},
   "outputs": [],
   "source": [
    "# set the dis, npf, chd, and wel variables"
   ]
  },
  {
   "cell_type": "code",
   "execution_count": 3,
   "metadata": {},
   "outputs": [],
   "source": [
    "# copy the quickstart example and update the dis, npf, chd, and wel variables"
   ]
  },
  {
   "cell_type": "markdown",
   "metadata": {},
   "source": [
    "## Step 3. Modify the example for transient conditions\n",
    "\n",
    "To change the steady state model from Step 2 into a transient model, we need to:\n",
    "1.  Change information in the Temporal Discretization (TDIS) Package\n",
    "2.  Assign a proper starting head to the Initial Conditions (IC) Package\n",
    "\n",
    "```\n",
    "# TDIS Package\n",
    "nper = 1\n",
    "nstp = 100\n",
    "perlen = 100.\n",
    "tsmult = 1.\n",
    "perioddata = [(perlen, nstp, tsmult)]\n",
    "\n",
    "# IC Package\n",
    "strt = 10.\n",
    "```"
   ]
  },
  {
   "cell_type": "code",
   "execution_count": 4,
   "metadata": {},
   "outputs": [],
   "source": [
    "# set the tdis and ic variables"
   ]
  },
  {
   "cell_type": "code",
   "execution_count": 5,
   "metadata": {},
   "outputs": [],
   "source": [
    "# copy the script from step 2 and update the tdis and ic variables"
   ]
  },
  {
   "cell_type": "code",
   "execution_count": 6,
   "metadata": {},
   "outputs": [],
   "source": [
    "# make a plot of drawdown versus time for the model cell with the well"
   ]
  },
  {
   "cell_type": "markdown",
   "metadata": {},
   "source": [
    "## Step 4. Transient simulation with multiple pumping wells\n",
    "\n",
    "Using the following `well_list`, create a well stress period variable."
   ]
  },
  {
   "cell_type": "code",
   "execution_count": 8,
   "metadata": {},
   "outputs": [
    {
     "data": {
      "text/plain": [
       "[('WELL1', 99988.2, 90903.66, 605.0),\n",
       " ('WELL2', 92195.48999999999, 55996.99, 12.0),\n",
       " ('WELL3', 64583.68, 65884.9, 716.0),\n",
       " ('WELL4', 84448.56, 77964.24, 334.0),\n",
       " ('WELL5', 72419.85, 81224.70999999999, 100.0),\n",
       " ('WELL6', 82417.15, 54822.61, 439.0),\n",
       " ('WELL7', 66320.24, 63385.979999999996, 694.0),\n",
       " ('WELL8', 95323.84, 86436.13, 651.0),\n",
       " ('WELL9', 78248.69, 89668.15, 558.0),\n",
       " ('WELL10', 61045.92, 81436.03, 418.0),\n",
       " ('WELL11', 60566.4, 58672.29, 730.0),\n",
       " ('WELL12', 50695.16, 83597.84, 268.0),\n",
       " ('WELL13', 59036.03, 52583.99, 312.0),\n",
       " ('WELL14', 94124.26000000001, 85123.48000000001, 483.0),\n",
       " ('WELL15', 72434.9, 85106.7, 845.0),\n",
       " ('WELL16', 72566.33, 83533.98000000001, 506.0),\n",
       " ('WELL17', 52285.95, 51383.14, 62.0)]"
      ]
     },
     "execution_count": 8,
     "metadata": {},
     "output_type": "execute_result"
    }
   ],
   "source": [
    "well_text = \"\"\"WELL1 49988.2 40903.66 605.0\n",
    "WELL2 42195.49 5996.99 12.0\n",
    "WELL3 14583.68 15884.9 716.0\n",
    "WELL4 34448.56 27964.24 334.0\n",
    "WELL5 22419.85 31224.71 100.0\n",
    "WELL6 32417.15 4822.61 439.0\n",
    "WELL7 16320.24 13385.98 694.0\n",
    "WELL8 45323.84 36436.13 651.0\n",
    "WELL9 28248.69 39668.15 558.0\n",
    "WELL10 11045.92 31436.03 418.0\n",
    "WELL11 10566.4 8672.29 730.0\n",
    "WELL12 695.16 33597.84 268.0\n",
    "WELL13 9036.03 2583.99 312.0\n",
    "WELL14 44124.26 35123.48 483.0\n",
    "WELL15 22434.9 35106.7 845.0\n",
    "WELL16 22566.33 33533.98 506.0\n",
    "WELL17 2285.95 1383.14 62.0\n",
    "\"\"\"\n",
    "\n",
    "# Create the list of wells (offset by 50000)\n",
    "well_list = []\n",
    "for w in well_text.splitlines():\n",
    "    w = w.split()\n",
    "    t = (w[0], float(w[1]) + 50000., float(w[2]) + 50000, float(w[3]))\n",
    "    well_list.append(t)\n",
    "well_list"
   ]
  },
  {
   "cell_type": "code",
   "execution_count": 9,
   "metadata": {},
   "outputs": [
    {
     "data": {
      "text/plain": [
       "[(0, 8, 13, -605.0),\n",
       " (0, 13, 12, -12.0),\n",
       " (0, 11, 9, -716.0),\n",
       " (0, 10, 11, -334.0),\n",
       " (0, 9, 10, -100.0),\n",
       " (0, 13, 11, -439.0),\n",
       " (0, 12, 9, -694.0),\n",
       " (0, 8, 13, -651.0),\n",
       " (0, 8, 10, -558.0),\n",
       " (0, 9, 8, -418.0),\n",
       " (0, 12, 8, -730.0),\n",
       " (0, 9, 7, -268.0),\n",
       " (0, 13, 8, -312.0),\n",
       " (0, 9, 13, -483.0),\n",
       " (0, 9, 10, -845.0),\n",
       " (0, 9, 10, -506.0),\n",
       " (0, 13, 7, -62.0)]"
      ]
     },
     "execution_count": 9,
     "metadata": {},
     "output_type": "execute_result"
    }
   ],
   "source": [
    "# Create well stress period data by interesting each well with modelgrid\n",
    "wel_spd = []\n",
    "for w in well_list:\n",
    "    wx = w[1]\n",
    "    wy = w[2]\n",
    "    w_i, w_j = gwf.modelgrid.intersect(wx, wy)\n",
    "    wt = (0, w_i, w_j, -w[3])\n",
    "    wel_spd.append(wt)\n",
    "wel_spd"
   ]
  },
  {
   "cell_type": "code",
   "execution_count": 7,
   "metadata": {},
   "outputs": [],
   "source": [
    "# copy the script from step 3 and simulate extraction from multiple wells"
   ]
  },
  {
   "cell_type": "code",
   "execution_count": null,
   "metadata": {},
   "outputs": [],
   "source": []
  }
 ],
 "metadata": {
  "kernelspec": {
   "display_name": "modflow6",
   "language": "python",
   "name": "python3"
  },
  "language_info": {
   "codemirror_mode": {
    "name": "ipython",
    "version": 3
   },
   "file_extension": ".py",
   "mimetype": "text/x-python",
   "name": "python",
   "nbconvert_exporter": "python",
   "pygments_lexer": "ipython3",
   "version": "3.12.1"
  }
 },
 "nbformat": 4,
 "nbformat_minor": 2
}
