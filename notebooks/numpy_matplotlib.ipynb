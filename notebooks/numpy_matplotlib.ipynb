{
 "cells": [
  {
   "cell_type": "markdown",
   "metadata": {},
   "source": [
    "# Numpy and Matplotlib\n",
    "\n",
    "The numpy and matplotlib libraries provide the fundamental building blocks for many commong scientific processing tasks.  In this notebook we will demonstrate how these libraries are used.\n",
    "\n",
    "numpy topics will include:\n",
    "* Loading numpy\n",
    "* Creating a numpy Array\n",
    "* Array operations\n",
    "* Accessing array elements\n",
    "\n",
    "matplotlib topics will include:\n",
    "* Simple plots (`plt.plot` and `plt.imshow`)\n",
    "* Figures and axes\n",
    "* Contour filled contour plots\n",
    "* Titles and labels\n",
    "* Legends"
   ]
  },
  {
   "cell_type": "code",
   "execution_count": null,
   "metadata": {
    "vscode": {
     "languageId": "plaintext"
    }
   },
   "outputs": [],
   "source": []
  },
  {
   "cell_type": "markdown",
   "metadata": {},
   "source": []
  }
 ],
 "metadata": {
  "language_info": {
   "name": "python"
  }
 },
 "nbformat": 4,
 "nbformat_minor": 2
}
