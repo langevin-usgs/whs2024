{
 "cells": [
  {
   "cell_type": "markdown",
   "id": "b00a82c9-d44b-4a9b-992c-aaaa411d0387",
   "metadata": {},
   "source": [
    "# Python in Hydrogeology\n",
    "\n",
    "# Introductions\n",
    "\n",
    "## My background\n",
    "## Your background!\n",
    "* ### Where are you from?\n",
    "* ### What do you do?\n",
    "* ### What is your experience with Python?\n",
    "* ### How do you feel that Python can help you?\n",
    "## What is Python?\n",
    "## My vision for this workshop\n",
    "## Workshop agenda\n",
    "| Time | Subject |\n",
    "| --- | --- |\n",
    "| 8:00 | Introductions |\n",
    "| 8:15 | Getting started |\n",
    "| 9:30 | Break |\n",
    "| 9:50 | Numpy and Matplotlib |\n",
    "| 12:00 | Lunch |\n",
    "| 1:00 | Theis drawdown exercise |\n",
    "| 2:30 | FloPy and MODFLOW |\n",
    "| 3:00 | Break |\n",
    "| 3:20 | FloPy and MODFLOW (cont) |\n",
    "| 4:45 | Wrap up |\n",
    "| 5:00 | Adjourn |\n",
    "## Workshop materials (https://github.com/langevin-usgs/whs2024)\n"
   ]
  },
  {
   "cell_type": "code",
   "execution_count": null,
   "id": "f545019b-21b9-4591-a424-9733783c38c3",
   "metadata": {},
   "outputs": [],
   "source": []
  }
 ],
 "metadata": {
  "kernelspec": {
   "display_name": "Python 3 (ipykernel)",
   "language": "python",
   "name": "python3"
  },
  "language_info": {
   "codemirror_mode": {
    "name": "ipython",
    "version": 3
   },
   "file_extension": ".py",
   "mimetype": "text/x-python",
   "name": "python",
   "nbconvert_exporter": "python",
   "pygments_lexer": "ipython3",
   "version": "3.12.1"
  }
 },
 "nbformat": 4,
 "nbformat_minor": 5
}
