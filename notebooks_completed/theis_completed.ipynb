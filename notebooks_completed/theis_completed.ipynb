{
 "cells": [
  {
   "cell_type": "markdown",
   "metadata": {},
   "source": [
    "# Theis Example\n",
    "\n",
    "The objective of this exercise is to learn how to use Python to help calculate drawdown using the Theis equation.  We will be plotting results along the way using matplotlib.\n",
    "\n",
    "Steps\n",
    "\n",
    "1. Construct and test a function that allows us to calculate the Theis solution\n",
    "2. Call the function in a loop and make a plot of drawdown versus distance and drawdown versus time\n",
    "3. Repeat step 2, but using numpy broadcasting instead\n",
    "4. Learn how to use the numpy.meshgrid function to create and plot 2d fields\n",
    "5. Create a two-dimensional contour map and filled contour map of drawdown at a pumping well\n",
    "6. Create an animation that shows the propagation of pumping at a single well\n",
    "7. Create a composite drawdown map using a list of wells and pumping rates provided in a table"
   ]
  },
  {
   "cell_type": "code",
   "execution_count": null,
   "metadata": {},
   "outputs": [],
   "source": [
    "import numpy as np\n",
    "import matplotlib.pyplot as plt"
   ]
  },
  {
   "cell_type": "markdown",
   "metadata": {},
   "source": [
    "## Step 1. Construct and est a Theis function\n",
    "\n",
    "The Theis (1935) equation is used to calculate drawdown for two-dimensional radial groundwater flow to a point source in an infinite, homogeneous aquifer. The Theis equation was derived from heat transfer literature (with the mathematical help of C.I. Lubin) and is defined as:\n",
    "\n",
    "\\begin{equation}\n",
    "s = \\frac{Q}{4 \\pi T} W(u)\n",
    "\\end{equation}\n",
    "\n",
    "where  \n",
    "$s$ is drawdown [L],  \n",
    "$Q$ is the pumping rate [L$^3$/T],  \n",
    "$T$ is the aquifer transmissivity [L$^2$/T],  \n",
    "$u$ is a dimensionless time parameter [unitless], and  \n",
    "$W(u)$ is the Well function (exponential integral $E_1$) [unitless]. The exponential integral is available in ``scipy.special`` as the ``exp1()`` function.\n",
    "\n",
    "The dimensionless time parameter is defined as:\n",
    "\n",
    "\\begin{equation}\n",
    "u = \\frac{r^2S}{4Tt}\n",
    "\\end{equation}\n",
    "\n",
    "where  \n",
    "$r$ is the distance from the pumping well to a point where drawdown is observed [L],   \n",
    "$S$ is storativity [unitless], and  \n",
    "$t$ is the time since pumping began. \n",
    "\n",
    "Storativity is defined as:\n",
    "\n",
    "\\begin{equation}\n",
    "S = S_s b\n",
    "\\end{equation}\n",
    "\n",
    "where  \n",
    "$S_s$ is specific storage [1/L] and   \n",
    "$b$ is the thickness of the aquifer.\n",
    "\n",
    "To get started with this, we can assume the following parameters:\n",
    "\n",
    "```\n",
    "Q = 1000. cubic feet per day\n",
    "T = 1000. feet squared per day\n",
    "r = 1000. feet\n",
    "S = 0.0001 unitless\n",
    "t = 100. days\n",
    "```\n",
    "\n",
    "Hint: you should get a calculated drawdown of 0.614."
   ]
  },
  {
   "cell_type": "code",
   "execution_count": null,
   "metadata": {},
   "outputs": [],
   "source": [
    "from scipy.special import exp1\n",
    "import numpy as np\n",
    "def theis_drawdown(Q, T, r, S, t):\n",
    "    u = r ** 2 * S / 4. / T / t\n",
    "    wu = exp1(u)\n",
    "    s = Q / 4. / np.pi / T * wu\n",
    "    return s"
   ]
  },
  {
   "cell_type": "code",
   "execution_count": null,
   "metadata": {},
   "outputs": [],
   "source": [
    "# test the function with some different values\n",
    "Q = 1000. # cubic feet per day\n",
    "T = 1000. # feet squared per day\n",
    "r = 1000. # feet\n",
    "S = 0.0001 # unitless\n",
    "t = 100. # days\n",
    "theis_drawdown(Q, T, r, S, t)"
   ]
  },
  {
   "cell_type": "markdown",
   "metadata": {},
   "source": [
    "## Step 2. Call the function in a loop\n",
    "\n",
    "Create plots of drawdown versus distance and drawdown versus time, by calling the Theis function multiple times in a loop."
   ]
  },
  {
   "cell_type": "code",
   "execution_count": null,
   "metadata": {},
   "outputs": [],
   "source": [
    "# call the function in a loop and plot the results\n",
    "x = []\n",
    "y = []\n",
    "for r in np.arange(1, 100000, 1000):\n",
    "    x.append(r)\n",
    "    y.append(theis_drawdown(Q, T, r, S, t))\n",
    "\n",
    "import matplotlib.pyplot as plt\n",
    "plt.plot(x, y, \"bo-\")\n",
    "plt.xlabel(\"distance, in feet\")\n",
    "plt.ylabel(\"drawdown, in feet\")"
   ]
  },
  {
   "cell_type": "code",
   "execution_count": null,
   "metadata": {},
   "outputs": [],
   "source": [
    "x = []\n",
    "y = []\n",
    "for t in np.arange(1, 100000, 1000):\n",
    "    x.append(t)\n",
    "    y.append(theis_drawdown(Q, T, r, S, t))\n",
    "\n",
    "import matplotlib.pyplot as plt\n",
    "plt.plot(x, y, \"bo-\")\n",
    "plt.xlabel(\"time, in days\")\n",
    "plt.ylabel(\"drawdown, in feet\")"
   ]
  },
  {
   "cell_type": "markdown",
   "metadata": {},
   "source": [
    "## Step 3.  Repeat step 2, but using numpy broadcasting instead of loops"
   ]
  },
  {
   "cell_type": "code",
   "execution_count": null,
   "metadata": {},
   "outputs": [],
   "source": [
    "# use broadcasting instead\n",
    "t = np.arange(1, 100000, 1000)\n",
    "s = theis_drawdown(Q, T, r, S, t)\n",
    "plt.plot(t, s)"
   ]
  },
  {
   "cell_type": "markdown",
   "metadata": {},
   "source": [
    "## Step 4. Learn how to use numpy.meshgrid\n",
    "\n",
    "Use numpy.meshgrid to create an x and y grid from 0 to 10000 using a spacing of 20.  If we have a well located at an (x, y) postion of (2500, 2500), calculate the distance to the well for every point in the meshgrid.  Make a plot of the distance using `contourf`.  "
   ]
  },
  {
   "cell_type": "code",
   "execution_count": null,
   "metadata": {},
   "outputs": [],
   "source": [
    "# what about a spatial plot of drawdown?\n",
    "# start by creating x,y grid\n",
    "x = np.linspace(0, 10000, 20)\n",
    "y = np.linspace(0, 10000, 20)\n",
    "xg, yg = np.meshgrid(x, y)\n",
    "ax = plt.subplot(1, 1, 1, aspect=\"equal\")\n",
    "ax.contourf(xg, yg, yg)"
   ]
  },
  {
   "cell_type": "code",
   "execution_count": null,
   "metadata": {},
   "outputs": [],
   "source": [
    "# for each square, assign the distance from the cell to the well\n",
    "xwell = 2500.\n",
    "ywell = 2500.\n",
    "r = np.sqrt((xg - xwell) ** 2 + (yg - ywell) ** 2)\n",
    "ax = plt.subplot(1, 1, 1, aspect=\"equal\")\n",
    "ax.contourf(xg, yg, r)"
   ]
  },
  {
   "cell_type": "markdown",
   "metadata": {},
   "source": [
    "## Step 5. Create a two-dimensional plot of drawdown\n",
    "\n",
    "Use the following parameters\n",
    "* Q = 1000. cubic feet per day\n",
    "* T = 1000. feet squared per day\n",
    "* r = calculated as the distance to the well at (2500, 2500)\n",
    "* S = 0.0001 unitless\n",
    "* t = 100. days"
   ]
  },
  {
   "cell_type": "code",
   "execution_count": null,
   "metadata": {},
   "outputs": [],
   "source": [
    "xwell = 2500.\n",
    "ywell = 2500.\n",
    "x = np.linspace(0, 10000, 200)\n",
    "y = np.linspace(0, 10000, 200)\n",
    "\n",
    "xg, yg = np.meshgrid(x, y)\n",
    "Q = 1000. # cubic feet per day\n",
    "T = 1000. # feet squared per day\n",
    "# r = 1000. # feet\n",
    "r = np.sqrt((xg - xwell) ** 2 + (yg - ywell) ** 2)\n",
    "S = 0.0001 # unitless\n",
    "t = 100. # days\n",
    "\n",
    "s = theis_drawdown(Q, T, r, S, t)\n",
    "ax = plt.subplot(1, 1, 1, aspect=\"equal\")\n",
    "ax.contour(xg, yg, s)\n",
    "ax.set_title(\"Theis Drawdown\")"
   ]
  },
  {
   "cell_type": "markdown",
   "metadata": {},
   "source": [
    "## Step 6. Create an animation of two-dimensional drawdown versus time\n",
    "\n",
    "```\n",
    "import matplotlib.animation\n",
    "\n",
    "fig = plt.figure()\n",
    "ax = fig.add_subplot(1, 1, 1, aspect=\"equal\")\n",
    "plt.xlabel(r'x')\n",
    "plt.ylabel(r'y')\n",
    "times = np.arange(1, 100, 1)\n",
    "title = ax.set_title(f\"Time = {0}\")\n",
    "levels = np.linspace(.1, 1, 10)\n",
    "cont = ax.contourf(xg, yg, xg * 0., levels=levels)\n",
    "\n",
    "# animation function\n",
    "def animate(i):\n",
    "    global cont\n",
    "    for c in cont.collections:\n",
    "        c.remove()\n",
    "    t = times[i]\n",
    "    ax.set_title(f\"Time = {t} days\")\n",
    "    s = theis_drawdown(Q, T, r, S, t)\n",
    "    cont = ax.contourf(xg, yg, s, levels=levels)\n",
    "    return cont  \n",
    "\n",
    "anim = matplotlib.animation.FuncAnimation(fig, animate, frames=times.shape[0])\n",
    "plt.close()\n",
    "\n",
    "from IPython.display import HTML\n",
    "HTML(anim.to_jshtml())\n",
    "```"
   ]
  },
  {
   "cell_type": "code",
   "execution_count": null,
   "metadata": {},
   "outputs": [],
   "source": [
    "import matplotlib.animation\n",
    "fig = plt.figure()\n",
    "ax = fig.add_subplot(1, 1, 1, aspect=\"equal\")\n",
    "plt.xlabel(r'x')\n",
    "plt.ylabel(r'y')\n",
    "times = np.arange(1, 100, 1)\n",
    "title = ax.set_title(f\"Time = {0}\")\n",
    "levels = np.linspace(.1, 1, 10)\n",
    "cont = ax.contourf(xg, yg, xg * 0., levels=levels)\n",
    "\n",
    "# animation function\n",
    "def animate(i):\n",
    "    global cont\n",
    "    for c in cont.collections:\n",
    "        c.remove()\n",
    "    t = times[i]\n",
    "    ax.set_title(f\"Time = {t} days\")\n",
    "    s = theis_drawdown(Q, T, r, S, t)\n",
    "    cont = ax.contourf(xg, yg, s, levels=levels)\n",
    "    return cont  \n",
    "\n",
    "anim = matplotlib.animation.FuncAnimation(fig, animate, frames=times.shape[0])\n",
    "plt.close()\n",
    "\n",
    "from IPython.display import HTML\n",
    "HTML(anim.to_jshtml())"
   ]
  },
  {
   "cell_type": "markdown",
   "metadata": {},
   "source": [
    "## Step 7.  Create a drawdown map for multiple wells\n",
    "\n",
    "Using the wells in the following table, create a two-dimensional drawdown map\n",
    "\n",
    "| Name | x | y | Pumping Rate|\n",
    "| --- | --- | --- | --- |\n",
    "| WELL1 | 49988.2 | 40903.66 | 605.0 |\n",
    "| WELL2 | 42195.49 | 5996.99 | 12.0 |\n",
    "| WELL3 | 14583.68 | 15884.9 | 716.0 |\n",
    "| WELL4 | 34448.56 | 27964.24 | 334.0 |\n",
    "| WELL5 | 22419.85 | 31224.71 | 100.0 |\n",
    "| WELL6 | 32417.15 | 4822.61 | 439.0 |\n",
    "| WELL7 | 16320.24 | 13385.98 | 694.0 |\n",
    "| WELL8 | 45323.84 | 36436.13 | 651.0 |\n",
    "| WELL9 | 28248.69 | 39668.15 | 558.0 |\n",
    "| WELL10 | 11045.92 | 31436.03 | 418.0 |\n",
    "| WELL11 | 10566.4 | 8672.29 | 730.0 |\n",
    "| WELL12 | 695.16 | 33597.84 | 268.0 |\n",
    "| WELL13 | 9036.03 | 2583.99 | 312.0 |\n",
    "| WELL14 | 44124.26 | 35123.48 | 483.0 |\n",
    "| WELL15 | 22434.9 | 35106.7 | 845.0 |\n",
    "| WELL16 | 22566.33 | 33533.98 | 506.0 |\n",
    "| WELL17 | 2285.95 | 1383.14 | 62.0 |\n",
    "\n",
    "In addition to the values in the table, using the following parameters\n",
    "\n",
    "```\n",
    "T = 1000. # feet squared per day\n",
    "S = 0.0001 # unitless\n",
    "t = 10. # days\n",
    "```"
   ]
  },
  {
   "cell_type": "code",
   "execution_count": null,
   "metadata": {},
   "outputs": [],
   "source": [
    "well_text = \"\"\"WELL1 49988.2 40903.66 605.0\n",
    "WELL2 42195.49 5996.99 12.0\n",
    "WELL3 14583.68 15884.9 716.0\n",
    "WELL4 34448.56 27964.24 334.0\n",
    "WELL5 22419.85 31224.71 100.0\n",
    "WELL6 32417.15 4822.61 439.0\n",
    "WELL7 16320.24 13385.98 694.0\n",
    "WELL8 45323.84 36436.13 651.0\n",
    "WELL9 28248.69 39668.15 558.0\n",
    "WELL10 11045.92 31436.03 418.0\n",
    "WELL11 10566.4 8672.29 730.0\n",
    "WELL12 695.16 33597.84 268.0\n",
    "WELL13 9036.03 2583.99 312.0\n",
    "WELL14 44124.26 35123.48 483.0\n",
    "WELL15 22434.9 35106.7 845.0\n",
    "WELL16 22566.33 33533.98 506.0\n",
    "WELL17 2285.95 1383.14 62.0\n",
    "\"\"\"\n",
    "\n",
    "# Create the list of wells\n",
    "well_list = []\n",
    "for w in well_text.splitlines():\n",
    "    w = w.split()\n",
    "    t = (w[0], float(w[1]), float(w[2]), float(w[3]))\n",
    "    well_list.append(t)\n",
    "well_list"
   ]
  },
  {
   "cell_type": "code",
   "execution_count": null,
   "metadata": {},
   "outputs": [],
   "source": [
    "def get_drawdown(wells, t, xg, yg):\n",
    "    drawdown = xg * 0.\n",
    "    for well in wells:\n",
    "        name, xwell, ywell, rate = well\n",
    "        r = np.sqrt((xg - xwell) ** 2 + (yg - ywell) ** 2)\n",
    "        s = theis_drawdown(rate, T, r, S, t)\n",
    "        drawdown += s\n",
    "    return drawdown\n",
    "\n",
    "x = np.linspace(-50000, 100000, 200)\n",
    "y = np.linspace(-50000, 100000, 200)\n",
    "xg, yg = np.meshgrid(x, y)\n",
    "\n",
    "T = 1000. # feet squared per day\n",
    "S = 0.0001 # unitless\n",
    "t = 10. # days\n",
    "\n",
    "s = get_drawdown(well_list, t, xg, yg)\n",
    "ax = plt.subplot(1, 1, 1, aspect=\"equal\")\n",
    "ax.contour(xg, yg, s)\n",
    "ax.set_title(\"Theis Drawdown\")"
   ]
  },
  {
   "cell_type": "code",
   "execution_count": null,
   "metadata": {},
   "outputs": [],
   "source": [
    "import matplotlib.animation\n",
    "\n",
    "fig = plt.figure()\n",
    "ax = fig.add_subplot(1, 1, 1, aspect=\"equal\")\n",
    "plt.xlabel(r'x')\n",
    "plt.ylabel(r'y')\n",
    "times = np.arange(1, 100, 1)\n",
    "title = ax.set_title(f\"Time = {0}\")\n",
    "levels = np.linspace(.1, 2, 20)\n",
    "cont = ax.contourf(xg, yg, xg * 0., levels=levels)\n",
    "\n",
    "# animation function\n",
    "def animate(i):\n",
    "    global cont\n",
    "    for c in cont.collections:\n",
    "        c.remove()\n",
    "    t = times[i]\n",
    "    ax.set_title(f\"Time = {t} days\")\n",
    "    s = get_drawdown(well_list, t, xg, yg)\n",
    "    cont = ax.contourf(xg, yg, s, levels=levels)\n",
    "    return cont  \n",
    "\n",
    "anim = matplotlib.animation.FuncAnimation(fig, animate, frames=times.shape[0])\n",
    "plt.close()\n",
    "\n",
    "from IPython.display import HTML\n",
    "HTML(anim.to_jshtml())\n",
    "\n",
    "# can use this command to write animation to file\n",
    "#anim.save(\"animation.avi\")"
   ]
  },
  {
   "cell_type": "code",
   "execution_count": null,
   "metadata": {},
   "outputs": [],
   "source": []
  }
 ],
 "metadata": {
  "kernelspec": {
   "display_name": "modflow6",
   "language": "python",
   "name": "python3"
  },
  "language_info": {
   "codemirror_mode": {
    "name": "ipython",
    "version": 3
   },
   "file_extension": ".py",
   "mimetype": "text/x-python",
   "name": "python",
   "nbconvert_exporter": "python",
   "pygments_lexer": "ipython3",
   "version": "3.12.1"
  }
 },
 "nbformat": 4,
 "nbformat_minor": 2
}
